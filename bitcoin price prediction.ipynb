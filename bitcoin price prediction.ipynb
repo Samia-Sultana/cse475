{
 "cells": [
  {
   "cell_type": "code",
   "execution_count": 30,
   "metadata": {},
   "outputs": [],
   "source": [
    "import pandas as pd  \n",
    "import numpy as np  \n",
    "import matplotlib.pyplot as plt   \n",
    "from sklearn.model_selection import train_test_split \n",
    "from sklearn.model_selection import cross_val_score\n",
    "from sklearn.linear_model import LinearRegression\n",
    "from sklearn.preprocessing import PolynomialFeatures\n",
    "from sklearn.pipeline import make_pipeline\n",
    "from sklearn import metrics\n",
    "from sklearn.metrics import max_error\n",
    "from sklearn.metrics import mean_absolute_error\n",
    "from sklearn.metrics import mean_squared_error\n",
    "\n",
    "degree=2\n",
    "%matplotlib inline"
   ]
  },
  {
   "cell_type": "code",
   "execution_count": 31,
   "metadata": {},
   "outputs": [
    {
     "data": {
      "text/html": [
       "<div>\n",
       "<style scoped>\n",
       "    .dataframe tbody tr th:only-of-type {\n",
       "        vertical-align: middle;\n",
       "    }\n",
       "\n",
       "    .dataframe tbody tr th {\n",
       "        vertical-align: top;\n",
       "    }\n",
       "\n",
       "    .dataframe thead th {\n",
       "        text-align: right;\n",
       "    }\n",
       "</style>\n",
       "<table border=\"1\" class=\"dataframe\">\n",
       "  <thead>\n",
       "    <tr style=\"text-align: right;\">\n",
       "      <th></th>\n",
       "      <th>Timestamp</th>\n",
       "      <th>Open</th>\n",
       "      <th>High</th>\n",
       "      <th>Low</th>\n",
       "      <th>Close</th>\n",
       "      <th>Volume_(BTC)</th>\n",
       "      <th>Volume_(Currency)</th>\n",
       "      <th>Weighted_Price</th>\n",
       "    </tr>\n",
       "  </thead>\n",
       "  <tbody>\n",
       "    <tr>\n",
       "      <th>0</th>\n",
       "      <td>1325317920</td>\n",
       "      <td>4.39</td>\n",
       "      <td>4.39</td>\n",
       "      <td>4.39</td>\n",
       "      <td>4.39</td>\n",
       "      <td>0.455581</td>\n",
       "      <td>2.000000</td>\n",
       "      <td>4.390000</td>\n",
       "    </tr>\n",
       "    <tr>\n",
       "      <th>478</th>\n",
       "      <td>1325346600</td>\n",
       "      <td>4.39</td>\n",
       "      <td>4.39</td>\n",
       "      <td>4.39</td>\n",
       "      <td>4.39</td>\n",
       "      <td>48.000000</td>\n",
       "      <td>210.720000</td>\n",
       "      <td>4.390000</td>\n",
       "    </tr>\n",
       "    <tr>\n",
       "      <th>547</th>\n",
       "      <td>1325350740</td>\n",
       "      <td>4.50</td>\n",
       "      <td>4.57</td>\n",
       "      <td>4.50</td>\n",
       "      <td>4.57</td>\n",
       "      <td>37.862297</td>\n",
       "      <td>171.380338</td>\n",
       "      <td>4.526411</td>\n",
       "    </tr>\n",
       "    <tr>\n",
       "      <th>548</th>\n",
       "      <td>1325350800</td>\n",
       "      <td>4.58</td>\n",
       "      <td>4.58</td>\n",
       "      <td>4.58</td>\n",
       "      <td>4.58</td>\n",
       "      <td>9.000000</td>\n",
       "      <td>41.220000</td>\n",
       "      <td>4.580000</td>\n",
       "    </tr>\n",
       "    <tr>\n",
       "      <th>1224</th>\n",
       "      <td>1325391360</td>\n",
       "      <td>4.58</td>\n",
       "      <td>4.58</td>\n",
       "      <td>4.58</td>\n",
       "      <td>4.58</td>\n",
       "      <td>1.502000</td>\n",
       "      <td>6.879160</td>\n",
       "      <td>4.580000</td>\n",
       "    </tr>\n",
       "  </tbody>\n",
       "</table>\n",
       "</div>"
      ],
      "text/plain": [
       "       Timestamp  Open  High   Low  Close  Volume_(BTC)  Volume_(Currency)  \\\n",
       "0     1325317920  4.39  4.39  4.39   4.39      0.455581           2.000000   \n",
       "478   1325346600  4.39  4.39  4.39   4.39     48.000000         210.720000   \n",
       "547   1325350740  4.50  4.57  4.50   4.57     37.862297         171.380338   \n",
       "548   1325350800  4.58  4.58  4.58   4.58      9.000000          41.220000   \n",
       "1224  1325391360  4.58  4.58  4.58   4.58      1.502000           6.879160   \n",
       "\n",
       "      Weighted_Price  \n",
       "0           4.390000  \n",
       "478         4.390000  \n",
       "547         4.526411  \n",
       "548         4.580000  \n",
       "1224        4.580000  "
      ]
     },
     "execution_count": 31,
     "metadata": {},
     "output_type": "execute_result"
    }
   ],
   "source": [
    "data = pd.read_csv(r\"C:\\Users\\User\\Desktop\\project\\bitstampUSD_1-min_data_2012-01-01_to_2021-03-31.csv\")\n",
    "data.dropna(subset = [\"Open\"], inplace=True) \n",
    "data.head(5)"
   ]
  },
  {
   "cell_type": "code",
   "execution_count": 32,
   "metadata": {},
   "outputs": [
    {
     "data": {
      "text/plain": [
       "(3613769, 8)"
      ]
     },
     "execution_count": 32,
     "metadata": {},
     "output_type": "execute_result"
    }
   ],
   "source": [
    "data.shape "
   ]
  },
  {
   "cell_type": "code",
   "execution_count": 33,
   "metadata": {},
   "outputs": [
    {
     "data": {
      "text/html": [
       "<div>\n",
       "<style scoped>\n",
       "    .dataframe tbody tr th:only-of-type {\n",
       "        vertical-align: middle;\n",
       "    }\n",
       "\n",
       "    .dataframe tbody tr th {\n",
       "        vertical-align: top;\n",
       "    }\n",
       "\n",
       "    .dataframe thead th {\n",
       "        text-align: right;\n",
       "    }\n",
       "</style>\n",
       "<table border=\"1\" class=\"dataframe\">\n",
       "  <thead>\n",
       "    <tr style=\"text-align: right;\">\n",
       "      <th></th>\n",
       "      <th>Timestamp</th>\n",
       "      <th>Open</th>\n",
       "      <th>High</th>\n",
       "      <th>Low</th>\n",
       "      <th>Close</th>\n",
       "      <th>Volume_(BTC)</th>\n",
       "      <th>Volume_(Currency)</th>\n",
       "      <th>Weighted_Price</th>\n",
       "    </tr>\n",
       "  </thead>\n",
       "  <tbody>\n",
       "    <tr>\n",
       "      <th>count</th>\n",
       "      <td>3.613769e+06</td>\n",
       "      <td>3.613769e+06</td>\n",
       "      <td>3.613769e+06</td>\n",
       "      <td>3.613769e+06</td>\n",
       "      <td>3.613769e+06</td>\n",
       "      <td>3.613769e+06</td>\n",
       "      <td>3.613769e+06</td>\n",
       "      <td>3.613769e+06</td>\n",
       "    </tr>\n",
       "    <tr>\n",
       "      <th>mean</th>\n",
       "      <td>1.497898e+09</td>\n",
       "      <td>6.009024e+03</td>\n",
       "      <td>6.013357e+03</td>\n",
       "      <td>6.004488e+03</td>\n",
       "      <td>6.009014e+03</td>\n",
       "      <td>9.323249e+00</td>\n",
       "      <td>4.176284e+04</td>\n",
       "      <td>6.008935e+03</td>\n",
       "    </tr>\n",
       "    <tr>\n",
       "      <th>std</th>\n",
       "      <td>7.443689e+07</td>\n",
       "      <td>8.996247e+03</td>\n",
       "      <td>9.003521e+03</td>\n",
       "      <td>8.988778e+03</td>\n",
       "      <td>8.996360e+03</td>\n",
       "      <td>3.054989e+01</td>\n",
       "      <td>1.518248e+05</td>\n",
       "      <td>8.995992e+03</td>\n",
       "    </tr>\n",
       "    <tr>\n",
       "      <th>min</th>\n",
       "      <td>1.325318e+09</td>\n",
       "      <td>3.800000e+00</td>\n",
       "      <td>3.800000e+00</td>\n",
       "      <td>1.500000e+00</td>\n",
       "      <td>1.500000e+00</td>\n",
       "      <td>0.000000e+00</td>\n",
       "      <td>0.000000e+00</td>\n",
       "      <td>3.800000e+00</td>\n",
       "    </tr>\n",
       "    <tr>\n",
       "      <th>25%</th>\n",
       "      <td>1.433683e+09</td>\n",
       "      <td>4.438600e+02</td>\n",
       "      <td>4.440000e+02</td>\n",
       "      <td>4.435200e+02</td>\n",
       "      <td>4.438600e+02</td>\n",
       "      <td>4.097759e-01</td>\n",
       "      <td>4.521422e+02</td>\n",
       "      <td>4.438306e+02</td>\n",
       "    </tr>\n",
       "    <tr>\n",
       "      <th>50%</th>\n",
       "      <td>1.505880e+09</td>\n",
       "      <td>3.596970e+03</td>\n",
       "      <td>3.598190e+03</td>\n",
       "      <td>3.595620e+03</td>\n",
       "      <td>3.597000e+03</td>\n",
       "      <td>1.979811e+00</td>\n",
       "      <td>3.810124e+03</td>\n",
       "      <td>3.596804e+03</td>\n",
       "    </tr>\n",
       "    <tr>\n",
       "      <th>75%</th>\n",
       "      <td>1.562208e+09</td>\n",
       "      <td>8.627270e+03</td>\n",
       "      <td>8.632980e+03</td>\n",
       "      <td>8.621090e+03</td>\n",
       "      <td>8.627160e+03</td>\n",
       "      <td>7.278216e+00</td>\n",
       "      <td>2.569821e+04</td>\n",
       "      <td>8.627637e+03</td>\n",
       "    </tr>\n",
       "    <tr>\n",
       "      <th>max</th>\n",
       "      <td>1.617149e+09</td>\n",
       "      <td>6.176356e+04</td>\n",
       "      <td>6.178183e+04</td>\n",
       "      <td>6.167355e+04</td>\n",
       "      <td>6.178180e+04</td>\n",
       "      <td>5.853852e+03</td>\n",
       "      <td>1.390067e+07</td>\n",
       "      <td>6.171621e+04</td>\n",
       "    </tr>\n",
       "  </tbody>\n",
       "</table>\n",
       "</div>"
      ],
      "text/plain": [
       "          Timestamp          Open          High           Low         Close  \\\n",
       "count  3.613769e+06  3.613769e+06  3.613769e+06  3.613769e+06  3.613769e+06   \n",
       "mean   1.497898e+09  6.009024e+03  6.013357e+03  6.004488e+03  6.009014e+03   \n",
       "std    7.443689e+07  8.996247e+03  9.003521e+03  8.988778e+03  8.996360e+03   \n",
       "min    1.325318e+09  3.800000e+00  3.800000e+00  1.500000e+00  1.500000e+00   \n",
       "25%    1.433683e+09  4.438600e+02  4.440000e+02  4.435200e+02  4.438600e+02   \n",
       "50%    1.505880e+09  3.596970e+03  3.598190e+03  3.595620e+03  3.597000e+03   \n",
       "75%    1.562208e+09  8.627270e+03  8.632980e+03  8.621090e+03  8.627160e+03   \n",
       "max    1.617149e+09  6.176356e+04  6.178183e+04  6.167355e+04  6.178180e+04   \n",
       "\n",
       "       Volume_(BTC)  Volume_(Currency)  Weighted_Price  \n",
       "count  3.613769e+06       3.613769e+06    3.613769e+06  \n",
       "mean   9.323249e+00       4.176284e+04    6.008935e+03  \n",
       "std    3.054989e+01       1.518248e+05    8.995992e+03  \n",
       "min    0.000000e+00       0.000000e+00    3.800000e+00  \n",
       "25%    4.097759e-01       4.521422e+02    4.438306e+02  \n",
       "50%    1.979811e+00       3.810124e+03    3.596804e+03  \n",
       "75%    7.278216e+00       2.569821e+04    8.627637e+03  \n",
       "max    5.853852e+03       1.390067e+07    6.171621e+04  "
      ]
     },
     "execution_count": 33,
     "metadata": {},
     "output_type": "execute_result"
    }
   ],
   "source": [
    "data.describe() "
   ]
  },
  {
   "cell_type": "code",
   "execution_count": 34,
   "metadata": {},
   "outputs": [
    {
     "data": {
      "text/plain": [
       "<matplotlib.axes._subplots.AxesSubplot at 0x2149bcde7f0>"
      ]
     },
     "execution_count": 34,
     "metadata": {},
     "output_type": "execute_result"
    },
    {
     "data": {
      "image/png": "[encoded data removed]",
      "text/plain": [
       "<Figure size 432x288 with 1 Axes>"
      ]
     },
     "metadata": {
      "needs_background": "light"
     },
     "output_type": "display_data"
    }
   ],
   "source": [
    "data.plot(kind=\"scatter\", x=\"Timestamp\", y= \"Weighted_Price\", color='red', marker='+') "
   ]
  },
  {
   "cell_type": "code",
   "execution_count": 35,
   "metadata": {},
   "outputs": [
    {
     "data": {
      "text/html": [
       "<div>\n",
       "<style scoped>\n",
       "    .dataframe tbody tr th:only-of-type {\n",
       "        vertical-align: middle;\n",
       "    }\n",
       "\n",
       "    .dataframe tbody tr th {\n",
       "        vertical-align: top;\n",
       "    }\n",
       "\n",
       "    .dataframe thead th {\n",
       "        text-align: right;\n",
       "    }\n",
       "</style>\n",
       "<table border=\"1\" class=\"dataframe\">\n",
       "  <thead>\n",
       "    <tr style=\"text-align: right;\">\n",
       "      <th></th>\n",
       "      <th>Timestamp</th>\n",
       "      <th>Open</th>\n",
       "      <th>High</th>\n",
       "      <th>Low</th>\n",
       "      <th>Close</th>\n",
       "      <th>Volume_(BTC)</th>\n",
       "      <th>Volume_(Currency)</th>\n",
       "    </tr>\n",
       "  </thead>\n",
       "  <tbody>\n",
       "    <tr>\n",
       "      <th>0</th>\n",
       "      <td>1325317920</td>\n",
       "      <td>4.39</td>\n",
       "      <td>4.39</td>\n",
       "      <td>4.39</td>\n",
       "      <td>4.39</td>\n",
       "      <td>0.455581</td>\n",
       "      <td>2.000000</td>\n",
       "    </tr>\n",
       "    <tr>\n",
       "      <th>478</th>\n",
       "      <td>1325346600</td>\n",
       "      <td>4.39</td>\n",
       "      <td>4.39</td>\n",
       "      <td>4.39</td>\n",
       "      <td>4.39</td>\n",
       "      <td>48.000000</td>\n",
       "      <td>210.720000</td>\n",
       "    </tr>\n",
       "    <tr>\n",
       "      <th>547</th>\n",
       "      <td>1325350740</td>\n",
       "      <td>4.50</td>\n",
       "      <td>4.57</td>\n",
       "      <td>4.50</td>\n",
       "      <td>4.57</td>\n",
       "      <td>37.862297</td>\n",
       "      <td>171.380338</td>\n",
       "    </tr>\n",
       "    <tr>\n",
       "      <th>548</th>\n",
       "      <td>1325350800</td>\n",
       "      <td>4.58</td>\n",
       "      <td>4.58</td>\n",
       "      <td>4.58</td>\n",
       "      <td>4.58</td>\n",
       "      <td>9.000000</td>\n",
       "      <td>41.220000</td>\n",
       "    </tr>\n",
       "    <tr>\n",
       "      <th>1224</th>\n",
       "      <td>1325391360</td>\n",
       "      <td>4.58</td>\n",
       "      <td>4.58</td>\n",
       "      <td>4.58</td>\n",
       "      <td>4.58</td>\n",
       "      <td>1.502000</td>\n",
       "      <td>6.879160</td>\n",
       "    </tr>\n",
       "    <tr>\n",
       "      <th>...</th>\n",
       "      <td>...</td>\n",
       "      <td>...</td>\n",
       "      <td>...</td>\n",
       "      <td>...</td>\n",
       "      <td>...</td>\n",
       "      <td>...</td>\n",
       "      <td>...</td>\n",
       "    </tr>\n",
       "    <tr>\n",
       "      <th>4857372</th>\n",
       "      <td>1617148560</td>\n",
       "      <td>58714.31</td>\n",
       "      <td>58714.31</td>\n",
       "      <td>58686.00</td>\n",
       "      <td>58686.00</td>\n",
       "      <td>1.384487</td>\n",
       "      <td>81259.372187</td>\n",
       "    </tr>\n",
       "    <tr>\n",
       "      <th>4857373</th>\n",
       "      <td>1617148620</td>\n",
       "      <td>58683.97</td>\n",
       "      <td>58693.43</td>\n",
       "      <td>58683.97</td>\n",
       "      <td>58685.81</td>\n",
       "      <td>7.294848</td>\n",
       "      <td>428158.146640</td>\n",
       "    </tr>\n",
       "    <tr>\n",
       "      <th>4857374</th>\n",
       "      <td>1617148680</td>\n",
       "      <td>58693.43</td>\n",
       "      <td>58723.84</td>\n",
       "      <td>58693.43</td>\n",
       "      <td>58723.84</td>\n",
       "      <td>1.705682</td>\n",
       "      <td>100117.070370</td>\n",
       "    </tr>\n",
       "    <tr>\n",
       "      <th>4857375</th>\n",
       "      <td>1617148740</td>\n",
       "      <td>58742.18</td>\n",
       "      <td>58770.38</td>\n",
       "      <td>58742.18</td>\n",
       "      <td>58760.59</td>\n",
       "      <td>0.720415</td>\n",
       "      <td>42332.958633</td>\n",
       "    </tr>\n",
       "    <tr>\n",
       "      <th>4857376</th>\n",
       "      <td>1617148800</td>\n",
       "      <td>58767.75</td>\n",
       "      <td>58778.18</td>\n",
       "      <td>58755.97</td>\n",
       "      <td>58778.18</td>\n",
       "      <td>2.712831</td>\n",
       "      <td>159417.751000</td>\n",
       "    </tr>\n",
       "  </tbody>\n",
       "</table>\n",
       "<p>3613769 rows × 7 columns</p>\n",
       "</div>"
      ],
      "text/plain": [
       "          Timestamp      Open      High       Low     Close  Volume_(BTC)  \\\n",
       "0        1325317920      4.39      4.39      4.39      4.39      0.455581   \n",
       "478      1325346600      4.39      4.39      4.39      4.39     48.000000   \n",
       "547      1325350740      4.50      4.57      4.50      4.57     37.862297   \n",
       "548      1325350800      4.58      4.58      4.58      4.58      9.000000   \n",
       "1224     1325391360      4.58      4.58      4.58      4.58      1.502000   \n",
       "...             ...       ...       ...       ...       ...           ...   \n",
       "4857372  1617148560  58714.31  58714.31  58686.00  58686.00      1.384487   \n",
       "4857373  1617148620  58683.97  58693.43  58683.97  58685.81      7.294848   \n",
       "4857374  1617148680  58693.43  58723.84  58693.43  58723.84      1.705682   \n",
       "4857375  1617148740  58742.18  58770.38  58742.18  58760.59      0.720415   \n",
       "4857376  1617148800  58767.75  58778.18  58755.97  58778.18      2.712831   \n",
       "\n",
       "         Volume_(Currency)  \n",
       "0                 2.000000  \n",
       "478             210.720000  \n",
       "547             171.380338  \n",
       "548              41.220000  \n",
       "1224              6.879160  \n",
       "...                    ...  \n",
       "4857372       81259.372187  \n",
       "4857373      428158.146640  \n",
       "4857374      100117.070370  \n",
       "4857375       42332.958633  \n",
       "4857376      159417.751000  \n",
       "\n",
       "[3613769 rows x 7 columns]"
      ]
     },
     "execution_count": 35,
     "metadata": {},
     "output_type": "execute_result"
    }
   ],
   "source": [
    "X = data.drop('Weighted_Price',axis=1)\n",
    "y = data['Weighted_Price'].values.reshape(-1,1)\n",
    "X"
   ]
  },
  {
   "cell_type": "code",
   "execution_count": 36,
   "metadata": {},
   "outputs": [
    {
     "name": "stdout",
     "output_type": "stream",
     "text": [
      "722754\n"
     ]
    }
   ],
   "source": [
    "X_train, X_test, y_train, y_test = train_test_split(X, y, test_size=0.2, random_state=0) \n",
    "print(len(y_test))"
   ]
  },
  {
   "cell_type": "code",
   "execution_count": 37,
   "metadata": {},
   "outputs": [
    {
     "data": {
      "text/plain": [
       "LinearRegression()"
      ]
     },
     "execution_count": 37,
     "metadata": {},
     "output_type": "execute_result"
    }
   ],
   "source": [
    "reg = LinearRegression() \n",
    "reg.fit(X_train, y_train) "
   ]
  },
  {
   "cell_type": "code",
   "execution_count": 38,
   "metadata": {},
   "outputs": [
    {
     "name": "stdout",
     "output_type": "stream",
     "text": [
      "Intercept: \n",
      " [-3.73105039]\n",
      "Coefficients: \n",
      " [[ 2.63127383e-09 -2.18291049e-02  4.69283701e-01  4.81914805e-01\n",
      "   7.06092847e-02 -1.09797869e-03 -1.51105081e-07]]\n"
     ]
    }
   ],
   "source": [
    "print('Intercept: \\n', reg.intercept_)\n",
    "print('Coefficients: \\n', reg.coef_)"
   ]
  },
  {
   "cell_type": "code",
   "execution_count": 39,
   "metadata": {},
   "outputs": [
    {
     "data": {
      "text/plain": [
       "722754"
      ]
     },
     "execution_count": 39,
     "metadata": {},
     "output_type": "execute_result"
    }
   ],
   "source": [
    "y_pred = reg.predict(X_test)\n",
    "len(y_pred)"
   ]
  },
  {
   "cell_type": "code",
   "execution_count": 40,
   "metadata": {},
   "outputs": [
    {
     "data": {
      "text/html": [
       "<div>\n",
       "<style scoped>\n",
       "    .dataframe tbody tr th:only-of-type {\n",
       "        vertical-align: middle;\n",
       "    }\n",
       "\n",
       "    .dataframe tbody tr th {\n",
       "        vertical-align: top;\n",
       "    }\n",
       "\n",
       "    .dataframe thead th {\n",
       "        text-align: right;\n",
       "    }\n",
       "</style>\n",
       "<table border=\"1\" class=\"dataframe\">\n",
       "  <thead>\n",
       "    <tr style=\"text-align: right;\">\n",
       "      <th></th>\n",
       "      <th>Actual</th>\n",
       "      <th>Predicted</th>\n",
       "    </tr>\n",
       "  </thead>\n",
       "  <tbody>\n",
       "    <tr>\n",
       "      <th>0</th>\n",
       "      <td>600.075666</td>\n",
       "      <td>600.285519</td>\n",
       "    </tr>\n",
       "    <tr>\n",
       "      <th>1</th>\n",
       "      <td>8827.442888</td>\n",
       "      <td>8831.365331</td>\n",
       "    </tr>\n",
       "    <tr>\n",
       "      <th>2</th>\n",
       "      <td>964.991319</td>\n",
       "      <td>964.907758</td>\n",
       "    </tr>\n",
       "    <tr>\n",
       "      <th>3</th>\n",
       "      <td>10550.035694</td>\n",
       "      <td>10549.999161</td>\n",
       "    </tr>\n",
       "    <tr>\n",
       "      <th>4</th>\n",
       "      <td>282.638901</td>\n",
       "      <td>282.829329</td>\n",
       "    </tr>\n",
       "    <tr>\n",
       "      <th>...</th>\n",
       "      <td>...</td>\n",
       "      <td>...</td>\n",
       "    </tr>\n",
       "    <tr>\n",
       "      <th>722749</th>\n",
       "      <td>251.326257</td>\n",
       "      <td>251.125860</td>\n",
       "    </tr>\n",
       "    <tr>\n",
       "      <th>722750</th>\n",
       "      <td>3735.714273</td>\n",
       "      <td>3736.005188</td>\n",
       "    </tr>\n",
       "    <tr>\n",
       "      <th>722751</th>\n",
       "      <td>759.290000</td>\n",
       "      <td>759.439115</td>\n",
       "    </tr>\n",
       "    <tr>\n",
       "      <th>722752</th>\n",
       "      <td>8634.801481</td>\n",
       "      <td>8635.231916</td>\n",
       "    </tr>\n",
       "    <tr>\n",
       "      <th>722753</th>\n",
       "      <td>19054.686556</td>\n",
       "      <td>19057.031809</td>\n",
       "    </tr>\n",
       "  </tbody>\n",
       "</table>\n",
       "<p>722754 rows × 2 columns</p>\n",
       "</div>"
      ],
      "text/plain": [
       "              Actual     Predicted\n",
       "0         600.075666    600.285519\n",
       "1        8827.442888   8831.365331\n",
       "2         964.991319    964.907758\n",
       "3       10550.035694  10549.999161\n",
       "4         282.638901    282.829329\n",
       "...              ...           ...\n",
       "722749    251.326257    251.125860\n",
       "722750   3735.714273   3736.005188\n",
       "722751    759.290000    759.439115\n",
       "722752   8634.801481   8635.231916\n",
       "722753  19054.686556  19057.031809\n",
       "\n",
       "[722754 rows x 2 columns]"
      ]
     },
     "execution_count": 40,
     "metadata": {},
     "output_type": "execute_result"
    }
   ],
   "source": [
    "df = pd.DataFrame({'Actual': y_test.flatten(), 'Predicted': y_pred.flatten()})\n",
    "df"
   ]
  },
  {
   "cell_type": "code",
   "execution_count": 41,
   "metadata": {},
   "outputs": [
    {
     "data": {
      "image/png": "[encoded data removed]",
      "text/plain": [
       "<Figure size 1152x720 with 1 Axes>"
      ]
     },
     "metadata": {
      "needs_background": "light"
     },
     "output_type": "display_data"
    }
   ],
   "source": [
    "df1 = df.head(25)\n",
    "df1.plot(kind='bar',figsize=(16,10))\n",
    "plt.grid(which='major', linestyle='-', linewidth='0.5', color='green')\n",
    "plt.grid(which='minor', linestyle=':', linewidth='0.5', color='black')\n",
    "plt.show() "
   ]
  },
  {
   "cell_type": "code",
   "execution_count": 42,
   "metadata": {},
   "outputs": [
    {
     "name": "stdout",
     "output_type": "stream",
     "text": [
      "Max Error is  338.0\n"
     ]
    }
   ],
   "source": [
    "score = max_error(y_test, y_pred)\n",
    "print(\"Max Error is \", round(score, 1))"
   ]
  },
  {
   "cell_type": "code",
   "execution_count": 43,
   "metadata": {},
   "outputs": [
    {
     "name": "stdout",
     "output_type": "stream",
     "text": [
      "Mean abosolute error is  1.6\n"
     ]
    }
   ],
   "source": [
    "score = mean_absolute_error(y_test, y_pred)\n",
    "print(\"Mean abosolute error is \", round(score, 1))"
   ]
  },
  {
   "cell_type": "code",
   "execution_count": 44,
   "metadata": {},
   "outputs": [
    {
     "name": "stdout",
     "output_type": "stream",
     "text": [
      "Mean squared error is  16.0\n"
     ]
    }
   ],
   "source": [
    "score = mean_squared_error(y_test, y_pred)\n",
    "print(\"Mean squared error is \", round(score, 1))"
   ]
  },
  {
   "cell_type": "code",
   "execution_count": 45,
   "metadata": {},
   "outputs": [
    {
     "data": {
      "text/plain": [
       "array([-0.41918684, -0.15073719, -2.37795899, -1.4833564 , -3.64567504])"
      ]
     },
     "execution_count": 45,
     "metadata": {},
     "output_type": "execute_result"
    }
   ],
   "source": [
    "lin_score = cross_val_score(reg, X, y, cv = 5, scoring='neg_mean_absolute_error')\n",
    "lin_score"
   ]
  },
  {
   "cell_type": "code",
   "execution_count": 46,
   "metadata": {},
   "outputs": [
    {
     "data": {
      "text/plain": [
       "array([0.41918684, 0.15073719, 2.37795899, 1.4833564 , 3.64567504])"
      ]
     },
     "execution_count": 46,
     "metadata": {},
     "output_type": "execute_result"
    }
   ],
   "source": [
    "lin_score_n = -lin_score\n",
    "lin_score_n"
   ]
  },
  {
   "cell_type": "code",
   "execution_count": 47,
   "metadata": {},
   "outputs": [
    {
     "data": {
      "text/plain": [
       "1.6153828917810693"
      ]
     },
     "execution_count": 47,
     "metadata": {},
     "output_type": "execute_result"
    }
   ],
   "source": [
    "np.mean(lin_score_n)"
   ]
  },
  {
   "cell_type": "code",
   "execution_count": 48,
   "metadata": {},
   "outputs": [],
   "source": [
    "#polynomial regression\n",
    "polyreg=make_pipeline(PolynomialFeatures(degree),LinearRegression())"
   ]
  },
  {
   "cell_type": "code",
   "execution_count": 49,
   "metadata": {},
   "outputs": [
    {
     "data": {
      "text/plain": [
       "Pipeline(steps=[('polynomialfeatures', PolynomialFeatures()),\n",
       "                ('linearregression', LinearRegression())])"
      ]
     },
     "execution_count": 49,
     "metadata": {},
     "output_type": "execute_result"
    }
   ],
   "source": [
    "polyreg.fit(X_train, y_train)"
   ]
  },
  {
   "cell_type": "code",
   "execution_count": 50,
   "metadata": {},
   "outputs": [],
   "source": [
    "y_pred = polyreg.predict(X_test)"
   ]
  },
  {
   "cell_type": "code",
   "execution_count": 51,
   "metadata": {},
   "outputs": [
    {
     "data": {
      "text/html": [
       "<div>\n",
       "<style scoped>\n",
       "    .dataframe tbody tr th:only-of-type {\n",
       "        vertical-align: middle;\n",
       "    }\n",
       "\n",
       "    .dataframe tbody tr th {\n",
       "        vertical-align: top;\n",
       "    }\n",
       "\n",
       "    .dataframe thead th {\n",
       "        text-align: right;\n",
       "    }\n",
       "</style>\n",
       "<table border=\"1\" class=\"dataframe\">\n",
       "  <thead>\n",
       "    <tr style=\"text-align: right;\">\n",
       "      <th></th>\n",
       "      <th>Actual</th>\n",
       "      <th>Predicted</th>\n",
       "    </tr>\n",
       "  </thead>\n",
       "  <tbody>\n",
       "    <tr>\n",
       "      <th>0</th>\n",
       "      <td>600.075666</td>\n",
       "      <td>613.730103</td>\n",
       "    </tr>\n",
       "    <tr>\n",
       "      <th>1</th>\n",
       "      <td>8827.442888</td>\n",
       "      <td>8832.055866</td>\n",
       "    </tr>\n",
       "    <tr>\n",
       "      <th>2</th>\n",
       "      <td>964.991319</td>\n",
       "      <td>969.588850</td>\n",
       "    </tr>\n",
       "    <tr>\n",
       "      <th>3</th>\n",
       "      <td>10550.035694</td>\n",
       "      <td>10566.624361</td>\n",
       "    </tr>\n",
       "    <tr>\n",
       "      <th>4</th>\n",
       "      <td>282.638901</td>\n",
       "      <td>276.204433</td>\n",
       "    </tr>\n",
       "    <tr>\n",
       "      <th>...</th>\n",
       "      <td>...</td>\n",
       "      <td>...</td>\n",
       "    </tr>\n",
       "    <tr>\n",
       "      <th>722749</th>\n",
       "      <td>251.326257</td>\n",
       "      <td>255.738854</td>\n",
       "    </tr>\n",
       "    <tr>\n",
       "      <th>722750</th>\n",
       "      <td>3735.714273</td>\n",
       "      <td>3753.205817</td>\n",
       "    </tr>\n",
       "    <tr>\n",
       "      <th>722751</th>\n",
       "      <td>759.290000</td>\n",
       "      <td>755.948037</td>\n",
       "    </tr>\n",
       "    <tr>\n",
       "      <th>722752</th>\n",
       "      <td>8634.801481</td>\n",
       "      <td>8661.945265</td>\n",
       "    </tr>\n",
       "    <tr>\n",
       "      <th>722753</th>\n",
       "      <td>19054.686556</td>\n",
       "      <td>18911.269042</td>\n",
       "    </tr>\n",
       "  </tbody>\n",
       "</table>\n",
       "<p>722754 rows × 2 columns</p>\n",
       "</div>"
      ],
      "text/plain": [
       "              Actual     Predicted\n",
       "0         600.075666    613.730103\n",
       "1        8827.442888   8832.055866\n",
       "2         964.991319    969.588850\n",
       "3       10550.035694  10566.624361\n",
       "4         282.638901    276.204433\n",
       "...              ...           ...\n",
       "722749    251.326257    255.738854\n",
       "722750   3735.714273   3753.205817\n",
       "722751    759.290000    755.948037\n",
       "722752   8634.801481   8661.945265\n",
       "722753  19054.686556  18911.269042\n",
       "\n",
       "[722754 rows x 2 columns]"
      ]
     },
     "execution_count": 51,
     "metadata": {},
     "output_type": "execute_result"
    }
   ],
   "source": [
    "df = pd.DataFrame({'Actual': y_test.flatten(), 'Predicted': y_pred.flatten()})\n",
    "df"
   ]
  },
  {
   "cell_type": "code",
   "execution_count": 52,
   "metadata": {},
   "outputs": [
    {
     "data": {
      "image/png": "[encoded data removed]",
      "text/plain": [
       "<Figure size 1152x720 with 1 Axes>"
      ]
     },
     "metadata": {
      "needs_background": "light"
     },
     "output_type": "display_data"
    }
   ],
   "source": [
    "df1 = df.head(25)\n",
    "df1.plot(kind='bar',figsize=(16,10))\n",
    "plt.grid(which='major', linestyle='-', linewidth='0.5', color='green')\n",
    "plt.grid(which='minor', linestyle=':', linewidth='0.5', color='black')\n",
    "plt.show() "
   ]
  },
  {
   "cell_type": "code",
   "execution_count": 53,
   "metadata": {},
   "outputs": [
    {
     "name": "stdout",
     "output_type": "stream",
     "text": [
      "Max Error is  7847.0\n"
     ]
    }
   ],
   "source": [
    "score = max_error(y_test, y_pred)\n",
    "print(\"Max Error is \", round(score, 1))"
   ]
  },
  {
   "cell_type": "code",
   "execution_count": 54,
   "metadata": {},
   "outputs": [
    {
     "name": "stdout",
     "output_type": "stream",
     "text": [
      "Mean abosolute error is  37.0\n"
     ]
    }
   ],
   "source": [
    "score = mean_absolute_error(y_test, y_pred)\n",
    "print(\"Mean abosolute error is \", round(score, 1))"
   ]
  },
  {
   "cell_type": "code",
   "execution_count": 55,
   "metadata": {},
   "outputs": [
    {
     "name": "stdout",
     "output_type": "stream",
     "text": [
      "Mean squared error is  8180.5\n"
     ]
    }
   ],
   "source": [
    "score = mean_squared_error(y_test, y_pred)\n",
    "print(\"Mean squared error is \", round(score, 1))"
   ]
  },
  {
   "cell_type": "code",
   "execution_count": 56,
   "metadata": {},
   "outputs": [
    {
     "data": {
      "text/plain": [
       "array([ -794.25409749,   -71.43884754,  -178.55345366,  -244.66497328,\n",
       "       -6054.40891167])"
      ]
     },
     "execution_count": 56,
     "metadata": {},
     "output_type": "execute_result"
    }
   ],
   "source": [
    "poly_score = cross_val_score(polyreg, X, y, cv = 5, scoring='neg_mean_absolute_error')\n",
    "poly_score"
   ]
  },
  {
   "cell_type": "code",
   "execution_count": 57,
   "metadata": {},
   "outputs": [
    {
     "data": {
      "text/plain": [
       "array([ 794.25409749,   71.43884754,  178.55345366,  244.66497328,\n",
       "       6054.40891167])"
      ]
     },
     "execution_count": 57,
     "metadata": {},
     "output_type": "execute_result"
    }
   ],
   "source": [
    "poly_score_n = -poly_score\n",
    "poly_score_n"
   ]
  },
  {
   "cell_type": "code",
   "execution_count": 58,
   "metadata": {},
   "outputs": [
    {
     "data": {
      "text/plain": [
       "1468.6640567305271"
      ]
     },
     "execution_count": 58,
     "metadata": {},
     "output_type": "execute_result"
    }
   ],
   "source": [
    "np.mean(poly_score_n)"
   ]
  },
  {
   "cell_type": "code",
   "execution_count": null,
   "metadata": {},
   "outputs": [],
   "source": []
  }
 ],
 "metadata": {
  "kernelspec": {
   "display_name": "Python 3",
   "language": "python",
   "name": "python3"
  },
  "language_info": {
   "codemirror_mode": {
    "name": "ipython",
    "version": 3
   },
   "file_extension": ".py",
   "mimetype": "text/x-python",
   "name": "python",
   "nbconvert_exporter": "python",
   "pygments_lexer": "ipython3",
   "version": "3.8.3"
  }
 },
 "nbformat": 4,
 "nbformat_minor": 4
}
